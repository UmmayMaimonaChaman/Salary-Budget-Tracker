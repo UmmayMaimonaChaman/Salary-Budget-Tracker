{
  "nbformat": 4,
  "nbformat_minor": 0,
  "metadata": {
    "colab": {
      "provenance": [],
      "authorship_tag": "ABX9TyOU6T1po8AoLs6Q+Pm7EFfA",
      "include_colab_link": true
    },
    "kernelspec": {
      "name": "python3",
      "display_name": "Python 3"
    },
    "language_info": {
      "name": "python"
    }
  },
  "cells": [
    {
      "cell_type": "markdown",
      "metadata": {
        "id": "view-in-github",
        "colab_type": "text"
      },
      "source": [
        "<a href=\"https://colab.research.google.com/github/UmmayMaimonaChaman/Salary-Budget-Tracker/blob/main/budget_tracker.ipynb\" target=\"_parent\"><img src=\"https://colab.research.google.com/assets/colab-badge.svg\" alt=\"Open In Colab\"/></a>"
      ]
    },
    {
      "cell_type": "markdown",
      "source": [
        "**This code implements a simple budget tracker that allows users to manage their personal finances by adding and viewing transactions. Users can input income or expense transactions with descriptions, which are then stored in a list. The program provides a menu interface with options to add income, add expenses, view a summary of total income, total expenses, and current balance, or list all recorded transactions. It uses a loop to continually present the menu until the user chooses to quit, ensuring that multiple transactions can be managed in one session. The program handles basic error checking for user input.**"
      ],
      "metadata": {
        "id": "gQiKnDGdQGWQ"
      }
    },
    {
      "cell_type": "code",
      "execution_count": 1,
      "metadata": {
        "colab": {
          "base_uri": "https://localhost:8080/"
        },
        "id": "T-f5lTkaQAEJ",
        "outputId": "6eebfaf6-64b0-485e-c953-de205bd9ce80"
      },
      "outputs": [
        {
          "output_type": "stream",
          "name": "stdout",
          "text": [
            "\n",
            "Budget Tracker Menu:\n",
            "1. Add Income\n",
            "2. Add Expense\n",
            "3. View Summary\n",
            "4. View Transactions\n",
            "5. Quit\n",
            "Enter your choice: 1\n",
            "Enter the income amount: 5000000\n",
            "Enter the income description: salary\n",
            "Income of $5000000.0 added: salary\n",
            "\n",
            "Budget Tracker Menu:\n",
            "1. Add Income\n",
            "2. Add Expense\n",
            "3. View Summary\n",
            "4. View Transactions\n",
            "5. Quit\n",
            "Enter your choice: 2\n",
            "Enter the expense amount: 5000\n",
            "Enter the expense description: food\n",
            "Expense of $5000.0 added: food\n",
            "\n",
            "Budget Tracker Menu:\n",
            "1. Add Income\n",
            "2. Add Expense\n",
            "3. View Summary\n",
            "4. View Transactions\n",
            "5. Quit\n",
            "Enter your choice: 4\n",
            "\n",
            "Transactions:\n",
            "1. Income - $5000000.0 : salary\n",
            "2. Expense - $5000.0 : food\n",
            "\n",
            "Budget Tracker Menu:\n",
            "1. Add Income\n",
            "2. Add Expense\n",
            "3. View Summary\n",
            "4. View Transactions\n",
            "5. Quit\n",
            "Enter your choice: 3\n",
            "\n",
            "Summary:\n",
            "Total Income: $5000000.0\n",
            "Total Expense: $5000.0\n",
            "Balance: $4995000.0\n",
            "\n",
            "Budget Tracker Menu:\n",
            "1. Add Income\n",
            "2. Add Expense\n",
            "3. View Summary\n",
            "4. View Transactions\n",
            "5. Quit\n",
            "Enter your choice: 5\n",
            "Goodbye!\n"
          ]
        }
      ],
      "source": [
        "transactions = []\n",
        "\n",
        "def add_transaction(transaction_type, amount, description):\n",
        "    transactions.append({'type': transaction_type, 'amount': amount, 'description': description})\n",
        "    print(f\"{transaction_type.capitalize()} of ${amount} added: {description}\")\n",
        "\n",
        "def view_summary():\n",
        "    total_income = 0\n",
        "    total_expense = 0\n",
        "\n",
        "    for t in transactions:\n",
        "        if t['type'] == 'income':\n",
        "            total_income += t['amount']\n",
        "        elif t['type'] == 'expense':\n",
        "            total_expense += t['amount']\n",
        "\n",
        "    balance = total_income - total_expense\n",
        "\n",
        "    print(\"\\nSummary:\")\n",
        "    print(f\"Total Income: ${total_income}\")\n",
        "    print(f\"Total Expense: ${total_expense}\")\n",
        "    print(f\"Balance: ${balance}\")\n",
        "\n",
        "def view_transactions():\n",
        "    if not transactions:\n",
        "        print(\"No transactions recorded.\")\n",
        "    else:\n",
        "        print(\"\\nTransactions:\")\n",
        "        for idx, t in enumerate(transactions):\n",
        "            t_type = \"Income\" if t['type'] == 'income' else \"Expense\"\n",
        "            print(f\"{idx + 1}. {t_type} - ${t['amount']} : {t['description']}\")\n",
        "\n",
        "def main():\n",
        "    while True:\n",
        "        print(\"\\nBudget Tracker Menu:\")\n",
        "        print(\"1. Add Income\")\n",
        "        print(\"2. Add Expense\")\n",
        "        print(\"3. View Summary\")\n",
        "        print(\"4. View Transactions\")\n",
        "        print(\"5. Quit\")\n",
        "\n",
        "        choice = input(\"Enter your choice: \")\n",
        "\n",
        "        if choice == '1':\n",
        "            try:\n",
        "                amount = float(input(\"Enter the income amount: \"))\n",
        "                description = input(\"Enter the income description: \")\n",
        "                add_transaction('income', amount, description)\n",
        "            except ValueError:\n",
        "                print(\"Please enter a valid amount.\")\n",
        "        elif choice == '2':\n",
        "            try:\n",
        "                amount = float(input(\"Enter the expense amount: \"))\n",
        "                description = input(\"Enter the expense description: \")\n",
        "                add_transaction('expense', amount, description)\n",
        "            except ValueError:\n",
        "                print(\"Please enter a valid amount.\")\n",
        "        elif choice == '3':\n",
        "            view_summary()\n",
        "        elif choice == '4':\n",
        "            view_transactions()\n",
        "        elif choice == '5':\n",
        "            print(\"Goodbye!\")\n",
        "            break\n",
        "        else:\n",
        "            print(\"Invalid choice. Please try again.\")\n",
        "\n",
        "if __name__ == \"__main__\":\n",
        "    main()\n"
      ]
    }
  ]
}